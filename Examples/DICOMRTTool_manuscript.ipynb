{
 "cells": [
  {
   "cell_type": "markdown",
   "metadata": {},
   "source": [
    "# DICOM RT Tool Tutorial with Open-Access Data\n",
    "\n",
    "This notebook demonstrates the various functions and utilities available in the Dicom RT tool Python package (https://github.com/brianmanderson/Dicom_RT_and_Images_to_Mask) by Anderson et. al. It serves as supplementary information for the Technical Paper titled: <em>\"Simple Python Module for Conversions between DICOM Images and Radiation Therapy Structures, Masks, and Prediction Arrays\" </em>. This notebook works through an example of publicly available brain tumor data of T1-w/FLAIR MRI sequences and corresponding RT structure files with multiple segmented regions of interest. Full information of the publicly available brain tumor data used in this notebook can be found at: https://figshare.com/articles/dataset/Data_from_An_Investigation_of_Machine_Learning_Methods_in_Delta-radiomics_Feature_Analysis/9943334. This notebook was written for easy accessibility for beginners to Python programming, medical imaging, and computational analysis. It should take no more than 10-15 minutes to run in it's entirety from scratch. The notebook generates about 10 GB worth of files, so ensure you have adequate space to run it. \n",
    "\n",
    "The notebook covers the following topics (click to go to section):\n",
    "1. [Getting the data](#DATA)\n",
    "2. [Reading in DICOM and RT struct files and converting to numpy array format](#DICOM)\n",
    "3. [Saving arrays to nifti format and reloading them](#NIFTI)\n",
    "4. [Saving and loading numpy array files](#NUMPY)\n",
    "5. [Calculating radiomic features](#RADIOMICS)\n",
    "6. [Predictions To RT-Structure Example](#RTSTRUCTURE)\n",
    "\n",
    "The notebook assumes you have the following nested directory structure after running cells that download necessary data:"
   ]
  },
  {
   "cell_type": "code",
   "execution_count": null,
   "metadata": {},
   "outputs": [],
   "source": [
    "\"\"\"\n",
    "Top-level directory/\n",
    "├── DICOMRTTool_manuscript.ipynb\n",
    "├── Example_Data/ <- Generated when you run the cells below\n",
    "|   ├── Image_Data/ \n",
    "|       ├── Structure/ <- These correspond to the Pre-RT scans\n",
    "│           ├── T1/\n",
    "|               ├── Patient number/\n",
    "|                   ├── RT Struc file (.dcm) \n",
    "│           ├── T2FLAIR/\n",
    "|               ├── Patient number/\n",
    "|                   ├── RT Struc file (.dcm)\n",
    "|       ├── T1/\n",
    "|           ├── Post1/\n",
    "|               ├── Patient number/\n",
    "|                   ├── DICOM image files (.dcm)\n",
    "|           ├── Post2/\n",
    "|               ├── Patient number/\n",
    "|                   ├── DICOM image files (.dcm)\n",
    "|           ├── Pre/\n",
    "|               ├── Patient number/\n",
    "|                   ├── DICOM image files (.dcm) <- The images we care about\n",
    "|       ├── T2FLAIR/\n",
    "|           ├── Post1/\n",
    "|               ├── Patient number/\n",
    "|                   ├── DICOM image files (.dcm)\n",
    "|           ├── Post2/\n",
    "|               ├── Patient number/\n",
    "|                   ├── DICOM image files (.dcm)\n",
    "|           ├── Pre/\n",
    "|               ├── Patient number/\n",
    "|                   ├── DICOM image files (.dcm) <- The images we care about\n",
    "├── Data.zip <- Generated when you run the cells below, downloaded Figshare file\n",
    "├── Nifti_Data/ <- Generated when you run the cells below\n",
    "|   ├──Image.nii\n",
    "|   ├──Mask.nii\n",
    "|   ├──MRN_Path_To_Iteration.xlsx\n",
    "|   ├──Overall_Data_Examples_(iteration).0.nii.gz \n",
    "|   ├──Overall_mask_Examples_y(iteration).0.nii.gz \n",
    "├── Numpy_Data/ <- Generated when you run the cells below\n",
    "|   ├──image.npy\n",
    "|   ├──mask.npy\n",
    "\"\"\""
   ]
  },
  {
   "cell_type": "code",
   "execution_count": null,
   "metadata": {
    "scrolled": true
   },
   "outputs": [],
   "source": [
    "#%%capture\n",
    "# Load or install the program, %%capture supresses print statements\n",
    "#!pip install DicomRTTool --upgrade\n",
    "#from DicomRTTool.ReaderWriter import DicomReaderWriter"
   ]
  },
  {
   "cell_type": "code",
   "execution_count": null,
   "metadata": {},
   "outputs": [],
   "source": [
    "# importing neccessary libraries \n",
    "\n",
    "# file mangagment \n",
    "import os \n",
    "import zipfile\n",
    "from six.moves import urllib\n",
    "\n",
    "# array manipulation and plotting\n",
    "import numpy as np\n",
    "import pandas as pd\n",
    "import matplotlib.pyplot as plt\n",
    "\n",
    "# medical image manipulation \n",
    "import SimpleITK as sitk"
   ]
  },
  {
   "cell_type": "code",
   "execution_count": null,
   "metadata": {},
   "outputs": [],
   "source": [
    "os.chdir(\"..\") # move up one folder to access src folder, temporary solution until PyPI is updated\n",
    "cwd = os.getcwd()\n",
    "from src.DicomRTTool.ReaderWriter import DicomReaderWriter # temporary while working on latest version from github pulls\n",
    "os.chdir(\"Examples\") # change working directory back to what it was \n",
    "cwd = os.getcwd()"
   ]
  },
  {
   "cell_type": "markdown",
   "metadata": {},
   "source": [
    "## Part 1: Getting the data. <a name=\"DATA\"></a>"
   ]
  },
  {
   "cell_type": "markdown",
   "metadata": {},
   "source": [
    "The RT struc files and their corresponding DICOM images can be in the same directory or different directories. Here we show a case where structure files and images are located in different directories. This is a good dataset to work with since its somewhat messy but coherent enough to show power of DICOMRTTool. Many files (pre-RT, post-RT at 2 timepoints) but only pre-RT T1 and FLAIR images have associated RT structure files. Downloading and unzipping the necessary files will take about 10 minutes on most CPUs and takes up about 8 GB of storage. One may visualize these DICOM images using a free commercially available DICOM viewer, such as Radiant (https://www.radiantviewer.com/)."
   ]
  },
  {
   "cell_type": "code",
   "execution_count": null,
   "metadata": {},
   "outputs": [],
   "source": [
    "%%time\n",
    "data_path = os.path.join('.', 'Example_Data')\n",
    "if not os.path.isdir(data_path): # create Example_data directory if it doesn't exist\n",
    "    os.mkdir(data_path)\n",
    "\n",
    "url_img = \"https://ndownloader.figshare.com/files/20140100\" # brain scans \n",
    "filename_img = os.path.join(data_path, 'Data.zip')\n",
    "if not os.path.exists(filename_img): # if zip file doesnt exist download \n",
    "    print (\"Retrieving zipped images...\")\n",
    "    print('Estimated download time is 5 minutes...')\n",
    "    urllib.request.urlretrieve(url_img, filename_img)\n",
    "    print('Finished downloading!')\n",
    "else:\n",
    "    print (\"Zipped images already downloaded.\")\n",
    "\n",
    "if os.path.exists(filename_img):  # If we downloaded the data\n",
    "    if not os.path.exists(os.path.join(data_path, 'Image_Data')): # and it hasn't been unzipped\n",
    "        print (\"Unzipping images...\")\n",
    "        print('Estimated unzip time is 2 minutes')\n",
    "        z = zipfile.ZipFile(filename_img)\n",
    "        z.extractall(data_path)\n",
    "        print (\"Done unzipping images.\")\n",
    "    \n",
    "print(\"All required files downloaded and unzipped!\") # print when done"
   ]
  },
  {
   "cell_type": "code",
   "execution_count": null,
   "metadata": {},
   "outputs": [],
   "source": [
    "def display_slices(image, mask, skip=1):\n",
    "    \"\"\"\n",
    "    Displays a series of slices in z-direction that contains the segmented regions of interest.\n",
    "    Ensures all contours are displayed in consistent and different colors.\n",
    "        Parameters:\n",
    "            image (array-like): Numpy array of image.\n",
    "            mask (array-like): Numpy array of mask.\n",
    "            skip (int): Only print every nth slice, i.e. if 3 only print every 3rd slice, default 1.\n",
    "        Returns:\n",
    "            None (series of in-line plots).\n",
    "    \"\"\"\n",
    "\n",
    "    slice_locations = np.unique(np.where(mask != 0)[0]) # get indexes for where there is a contour present \n",
    "    slice_start = slice_locations[0] # first slice of contour \n",
    "    slice_end = slice_locations[len(slice_locations)-1] # last slice of contour\n",
    "    \n",
    "    counter = 1\n",
    "    \n",
    "    for img_arr, contour_arr in zip(image[slice_start:slice_end+1], mask[slice_start:slice_end+1]): # plot the slices with contours overlayed ontop\n",
    "        if counter % skip == 0: # if current slice is divisible by desired skip amount \n",
    "            masked_contour_arr = np.ma.masked_where(contour_arr == 0, contour_arr)\n",
    "            plt.imshow(img_arr, cmap='gray', interpolation='none')\n",
    "            plt.imshow(masked_contour_arr, cmap='cool', interpolation='none', alpha=0.5, vmin = 1, vmax = np.amax(mask)) # vmax is set as total number of contours so same colors can be displayed for each slice\n",
    "            plt.show()\n",
    "        counter += 1"
   ]
  },
  {
   "cell_type": "markdown",
   "metadata": {},
   "source": [
    "## Part 2: Reading in DICOM and RT struct files and converting to numpy array format. <a name=\"DICOM\"></a>\n",
    "\n",
    "The principal on which this set of tools operates on is based on the DicomReaderWriter object. It is instantiated with the contours of interest (and associations) and can then be used to create numpy arrays of images and masks of the format [slices, width, height].\n",
    "\n",
    "\n",
    "The following code logic is used to demonstrate searching a path and returning indices for matched structures and images (by UID) for arbitrary directory structures (DICOM image files and RT Struct files not in the same folder). If all necessary structure files are in the same folder as the corresponding images (by UID), one can alternatively use an os.walk through directories of interest and call DicomReaderWriter each time a folder is discovered. For example, I normally use a folder structure MRN -> date of image (pre,mid,post-RT) -> type of scan (MRI, CT, etc.) -> files (DICOM images + RT Struct). However, this approach calls the DicomReaderWriter iteratively, which can be computationally taxing."
   ]
  },
  {
   "cell_type": "code",
   "execution_count": null,
   "metadata": {},
   "outputs": [],
   "source": [
    "DICOM_path = os.path.join('.', 'Example_Data', 'Image_Data') # folder where downloaded data was stored\n",
    "print(DICOM_path)"
   ]
  },
  {
   "cell_type": "markdown",
   "metadata": {},
   "source": [
    "This will walk through all of the folders, and using SimpleITK, will separate them based on SeriesInstanceUIDs."
   ]
  },
  {
   "cell_type": "code",
   "execution_count": null,
   "metadata": {
    "scrolled": true
   },
   "outputs": [],
   "source": [
    "%%time\n",
    "Dicom_reader = DicomReaderWriter(description='Examples', arg_max=True)\n",
    "print('Estimated 1 minutes and 30 seconds, depending on number of cores present in your computer')\n",
    "Dicom_reader.walk_through_folders(DICOM_path) # need to define in order to use all_roi method"
   ]
  },
  {
   "cell_type": "code",
   "execution_count": null,
   "metadata": {
    "scrolled": true
   },
   "outputs": [],
   "source": [
    "all_rois = Dicom_reader.return_rois(print_rois=True)  # Return a list of all rois present, and print them"
   ]
  },
  {
   "cell_type": "markdown",
   "metadata": {},
   "source": [
    "As we can see, these ROIs correspond to a variety of structures. In particular, we can see many GBM and glioma structures. Note GBM denotes glioblastoma multiforme (a high grade glioma)."
   ]
  },
  {
   "cell_type": "code",
   "execution_count": null,
   "metadata": {
    "scrolled": true
   },
   "outputs": [],
   "source": [
    "# Print the locations of all RTs with a certain ROI name, automatically lower cased\n",
    "Dicom_reader.where_is_ROI(ROIName='BrAiNsTeM1')"
   ]
  },
  {
   "cell_type": "code",
   "execution_count": null,
   "metadata": {},
   "outputs": [],
   "source": [
    "Dicom_reader.which_indexes_have_all_rois()  # Check to see which indexes have all of the rois we want\n",
    "# Since we haven't defined anything yet, it prompts you to input a list of contour names"
   ]
  },
  {
   "cell_type": "markdown",
   "metadata": {},
   "source": [
    "From these ROIs, we will look for those that describe the following regions of interest: tumor (glioblastoma multiforme only) and high-dose area of radiation therapy. "
   ]
  },
  {
   "cell_type": "code",
   "execution_count": null,
   "metadata": {},
   "outputs": [],
   "source": [
    "Contour_Names = ['tumor', 'high_dose'] \n",
    "\n",
    "associations = {'dose 1000[cgy]': 'high_dose', 'dose 1200[cgy]': 'high_dose', # new high dose ROI through association\n",
    "               'exprtfrontrecgbm': 'tumor', 'rtfrontrecgbm': 'tumor', 'expltfrontgbm': 'tumor', # associating gbms to tumor \n",
    "                'ltfrontgbm': 'tumor','infrttempgbm': 'tumor', 'rttemprecgbm': 'tumor',\n",
    "               'exprttemprecgbm': 'tumor','expltfrparrecgbm': 'tumor', 'ltfrparrecgbm': 'tumor'} "
   ]
  },
  {
   "cell_type": "code",
   "execution_count": null,
   "metadata": {
    "scrolled": true
   },
   "outputs": [],
   "source": [
    "Dicom_reader.set_contour_names_and_associations(Contour_Names=Contour_Names, associations=associations)"
   ]
  },
  {
   "cell_type": "markdown",
   "metadata": {},
   "source": [
    "Note: The module is printing \"Found []\" because many of the scans (post-1 and post-2 RT) do not have associated structure files. The module recognizes these images exist (unique UIDs) but associated structure files cannot be located for them."
   ]
  },
  {
   "cell_type": "code",
   "execution_count": null,
   "metadata": {},
   "outputs": [],
   "source": [
    "indexes = Dicom_reader.which_indexes_have_all_rois()  # Check to see which indexes have all of the rois we want, now we can see indexes"
   ]
  },
  {
   "cell_type": "code",
   "execution_count": null,
   "metadata": {},
   "outputs": [],
   "source": [
    "pt_indx = indexes[-1]\n",
    "Dicom_reader.set_index(pt_indx)  # This index has all the structures, corresponds to pre-RT T1-w image for patient 010\n",
    "Dicom_reader.get_images_and_mask()  # Load up the images and mask for the requested index"
   ]
  },
  {
   "cell_type": "code",
   "execution_count": null,
   "metadata": {},
   "outputs": [],
   "source": [
    "image = Dicom_reader.ArrayDicom # image array\n",
    "mask = Dicom_reader.mask # mask array\n",
    "dicom_sitk_handle = Dicom_reader.dicom_handle # SimpleITK image handle\n",
    "mask_sitk_handle = Dicom_reader.annotation_handle # SimpleITK mask handle"
   ]
  },
  {
   "cell_type": "code",
   "execution_count": null,
   "metadata": {
    "scrolled": true
   },
   "outputs": [],
   "source": [
    "n_slices_skip = 4\n",
    "display_slices(image, mask, skip = n_slices_skip) # visualize that our segmentations were succesfully convereted "
   ]
  },
  {
   "cell_type": "markdown",
   "metadata": {},
   "source": [
    "Note: Cyan color denotes tumor while magenta denotes surrounding area of high-dose radiation. Only displaying 7 slices."
   ]
  },
  {
   "cell_type": "markdown",
   "metadata": {},
   "source": [
    "## Part 3: Saving arrays to nifti format. <a name=\"NIFTI\"></a>\n",
    "\n",
    "If you want to use a manual approach, you can view the nifti files easily after running get_images_and_mask(). Saving files as nifti is advisable since spacing information is preserved."
   ]
  },
  {
   "cell_type": "code",
   "execution_count": null,
   "metadata": {},
   "outputs": [],
   "source": [
    "nifti_path = os.path.join('.', 'Example_Data', 'Nifti_Data') # nifti subfolder \n",
    "if not os.path.exists(nifti_path):\n",
    "    os.makedirs(nifti_path)"
   ]
  },
  {
   "cell_type": "code",
   "execution_count": null,
   "metadata": {},
   "outputs": [],
   "source": [
    "dicom_sitk_handle = Dicom_reader.dicom_handle # SimpleITK image handle\n",
    "mask_sitk_handle = Dicom_reader.annotation_handle # SimpleITK mask handle\n",
    "sitk.WriteImage(dicom_sitk_handle, os.path.join(nifti_path, 'Image.nii'))\n",
    "sitk.WriteImage(mask_sitk_handle, os.path.join(nifti_path, 'Mask.nii'))"
   ]
  },
  {
   "cell_type": "markdown",
   "metadata": {},
   "source": [
    "One can also use the built in .write_parallel attribute to generate nifti files for all relevant pairs the DicomReaderWriter object has found/generated. In this case there are 9 image/mask pairs for unique UIDs that contain all contours we are interested in. Note a corresponding log excel file in the specified output path. The nifti files are written in the following format: \"Overall_Data_Examples_{iteration}.nii.gz\" (image) or \"Overall_mask_Examples_y{iteration}.nii.gz\" (mask)."
   ]
  },
  {
   "cell_type": "code",
   "execution_count": null,
   "metadata": {
    "scrolled": true
   },
   "outputs": [],
   "source": [
    "%%time\n",
    "%%capture\n",
    "Dicom_reader.write_parallel(out_path = nifti_path, excel_file = os.path.join(nifti_path,'.','MRN_Path_To_Iteration.xlsx'))"
   ]
  },
  {
   "cell_type": "markdown",
   "metadata": {},
   "source": [
    "We can now reload the nifti files and disaply them to check that nothing went wrong. You can inspect the other converted files by changing the numerical suffix as per the excel log file ('MRN_Path_To_Iteration.xlsx'). In this case iteration 2 corresponds to the patient we are interested in."
   ]
  },
  {
   "cell_type": "code",
   "execution_count": null,
   "metadata": {},
   "outputs": [],
   "source": [
    "nifti_image = sitk.ReadImage(os.path.join(nifti_path,\"Overall_Data_Examples_2.nii.gz\")) # reload image\n",
    "image = sitk.GetArrayFromImage(nifti_image)\n",
    "nifti_mask = sitk.ReadImage(os.path.join(nifti_path,\"Overall_mask_Examples_y2.nii.gz\")) # reload mask\n",
    "mask = sitk.GetArrayFromImage(nifti_mask)"
   ]
  },
  {
   "cell_type": "code",
   "execution_count": null,
   "metadata": {},
   "outputs": [],
   "source": [
    "display_slices(image, mask, skip = n_slices_skip) # visualize that our segmentations were succesfully convereted from nifti "
   ]
  },
  {
   "cell_type": "markdown",
   "metadata": {},
   "source": [
    "## Part 4: Saving and loading numpy files for later use. <a name=\"NUMPY\"></a>\n",
    "\n",
    "Finally we can save the numpy arrays themselves to files for later use (so you don't have to reinstantiate the computationally expensive DicomReaderWriter object) and subsequently re-load the numpy arrays."
   ]
  },
  {
   "cell_type": "code",
   "execution_count": null,
   "metadata": {},
   "outputs": [],
   "source": [
    "numpy_path = os.path.join(data_path, 'Numpy_Data') # go into numpy subfolder \n",
    "if not os.path.exists(numpy_path):\n",
    "    os.makedirs(numpy_path)"
   ]
  },
  {
   "cell_type": "code",
   "execution_count": null,
   "metadata": {},
   "outputs": [],
   "source": [
    "np.save(os.path.join(numpy_path, 'image'), image) # save the arrays\n",
    "np.save(os.path.join(numpy_path, 'mask'), mask)"
   ]
  },
  {
   "cell_type": "code",
   "execution_count": null,
   "metadata": {},
   "outputs": [],
   "source": [
    "image = np.load(os.path.join(numpy_path,'image.npy')) # load the arrays\n",
    "mask = np.load(os.path.join(numpy_path,'mask.npy'))"
   ]
  },
  {
   "cell_type": "markdown",
   "metadata": {},
   "source": [
    "## Part 5: Radiomics Use-case Example. <a name=\"RADIOMICS\"></a>\n",
    "\n",
    "Here we use the popular open-source radiomics library PyRadiomics (https://pyradiomics.readthedocs.io/en/latest/) to calculate radiomic features for our ROIs. In this case, we only calculate a limited number features from the tumor as an illustrative example. "
   ]
  },
  {
   "cell_type": "code",
   "execution_count": null,
   "metadata": {},
   "outputs": [],
   "source": [
    "try:\n",
    "    from radiomics import featureextractor\n",
    "except:\n",
    "    !pip install pyradiomics\n",
    "    from radiomics import featureextractor"
   ]
  },
  {
   "cell_type": "code",
   "execution_count": null,
   "metadata": {},
   "outputs": [],
   "source": [
    "pd.set_option('display.max_columns', None) # show all columns"
   ]
  },
  {
   "cell_type": "code",
   "execution_count": null,
   "metadata": {},
   "outputs": [],
   "source": [
    "%%time\n",
    "# note: need sitk images (sitk.ReadImage(nifti file)) to plug into PyRadiomics, preserves spacing \n",
    "\n",
    "ROI_index = 1 # index for tumor\n",
    "nifti_mask_tumor = sitk.BinaryThreshold(nifti_mask, lowerThreshold=ROI_index, upperThreshold=ROI_index) # select only ROI of interest\n",
    "\n",
    "params = {} # can edit in more params as neccessary \n",
    "extractor = featureextractor.RadiomicsFeatureExtractor(**params) # instantiate extractor with parameters \n",
    "extractor.disableAllFeatures() # in case where only want some features, can delete disable/enable lines if you want deafult\n",
    "extractor.enableFeatureClassByName('firstorder') \n",
    "extractor.enableFeatureClassByName('glcm') \n",
    "features = {} # empty dictionary \n",
    "features = extractor.execute(nifti_image, nifti_mask_tumor) # unpack results into features dictionary\n",
    "df = pd.DataFrame({k: [v] for k, v in features.items()}) # put dictionary into a dataframe "
   ]
  },
  {
   "cell_type": "code",
   "execution_count": null,
   "metadata": {
    "scrolled": true
   },
   "outputs": [],
   "source": [
    "df # display dataframe to inspect features "
   ]
  },
  {
   "cell_type": "markdown",
   "metadata": {},
   "source": [
    "Numerical results for radiomic features shown here are consistent with importing nifti files as image and label map in 3D Slicer (https://www.slicer.org/) and using Radiomics extension (https://www.slicer.org/wiki/Documentation/Nightly/Extensions/Radiomics)."
   ]
  },
  {
   "cell_type": "markdown",
   "metadata": {},
   "source": [
    "## Part 6: Predictions To RT-Structure Example <a name=\"RTSTRUCTURE\"></a>\n",
    "\n",
    "Here we will provide a simple example for converting a predicted NumPy array of a square into a Dicom RT-Structure file"
   ]
  },
  {
   "cell_type": "code",
   "execution_count": null,
   "metadata": {},
   "outputs": [],
   "source": [
    "RT_path = os.path.join('Example_Data', 'RT_Structures')\n",
    "if not os.path.exists(RT_path):\n",
    "    os.makedirs(RT_path)"
   ]
  },
  {
   "cell_type": "markdown",
   "metadata": {},
   "source": [
    "First, we will create a fake prediction, it will be the same size as the image NumPy array"
   ]
  },
  {
   "cell_type": "code",
   "execution_count": null,
   "metadata": {},
   "outputs": [],
   "source": [
    "image = Dicom_reader.ArrayDicom"
   ]
  },
  {
   "cell_type": "markdown",
   "metadata": {},
   "source": [
    "Now, deep learning model typically create segmentations in the format of (z_images, rows, cols, # of classes) "
   ]
  },
  {
   "cell_type": "code",
   "execution_count": null,
   "metadata": {},
   "outputs": [],
   "source": [
    "square_prediction = np.zeros(image.shape + (2,))  # Two classes, a background and foreground\n",
    "square_prediction.shape\n",
    "square_prediction[50:100, 200:300, 200:300, 1] = 1  # Here we are drawing a square"
   ]
  },
  {
   "cell_type": "code",
   "execution_count": null,
   "metadata": {
    "scrolled": true
   },
   "outputs": [],
   "source": [
    "display_slices(image, square_prediction[..., -1], skip = n_slices_skip) # visualize our square on the image"
   ]
  },
  {
   "cell_type": "markdown",
   "metadata": {},
   "source": [
    "Convert the NumPy arrays into RT-Structure"
   ]
  },
  {
   "cell_type": "code",
   "execution_count": null,
   "metadata": {},
   "outputs": [],
   "source": [
    "Dicom_reader.prediction_array_to_RT(prediction_array=square_prediction, output_dir=RT_path, ROI_Names=['square'])"
   ]
  },
  {
   "cell_type": "markdown",
   "metadata": {},
   "source": [
    "# Final notes\n",
    "\n",
    "### I hope that this code has been useful, if you have any suggestions or problems, please open an issue ticket or merge request on the Github: https://github.com/brianmanderson/Dicom_RT_and_Images_to_Mask\n",
    "\n",
    "#### Thank you!"
   ]
  },
  {
   "cell_type": "code",
   "execution_count": null,
   "metadata": {},
   "outputs": [],
   "source": []
  }
 ],
 "metadata": {
  "kernelspec": {
   "display_name": "Python 3",
   "language": "python",
   "name": "python3"
  },
  "language_info": {
   "codemirror_mode": {
    "name": "ipython",
    "version": 3
   },
   "file_extension": ".py",
   "mimetype": "text/x-python",
   "name": "python",
   "nbconvert_exporter": "python",
   "pygments_lexer": "ipython3",
   "version": "3.6.5"
  }
 },
 "nbformat": 4,
 "nbformat_minor": 4
}
