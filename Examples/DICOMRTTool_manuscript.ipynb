{
 "cells": [
  {
   "cell_type": "markdown",
   "metadata": {},
   "source": [
    "# DICOM RT Tool Illustrative Example with Open-Access Data\n",
    "\n",
    "Last edited by Kareem Wahid on January 4, 2020.\n",
    "\n",
    "This notebook demonstrates the various functions and utilities avaliable in the Dicom RT tool package (https://github.com/brianmanderson/Dicom_RT_and_Images_to_Mask). It serves as supplementary information for the Technical Paper titled: \"Simple Python Module for Conversions between DICOM Images and Radiation Therapy Structures, Masks, and Prediction Arrays\". This notebook works through an example of publically avalaible brain tumor data of T1-w/FLAIR MRI sequences and corresponding RT structure files with multiple segemented regions of interest. Full information of the publically avaliable brain tumor data used in this notebook can be found at: https://figshare.com/articles/dataset/Data_from_An_Investigation_of_Machine_Learning_Methods_in_Delta-radiomics_Feature_Analysis/9943334. This notebook was written for easy accesibility for beginners to Python programming, medical imaging, and computational analyis.\n",
    "\n",
    "The notebook covers the following topics (click to go to section):\n",
    "1. [Getting the Data](#DATA)\n",
    "2. [Reading in DICOM and RT struct files and converting to numpy array format](#DICOM)\n",
    "3. [Saving arrays to nifti format and reloading them](#NIFTI)\n",
    "4. [Saving and loading numpy files for later use](#NUMPY)\n",
    "5. [Calculating radiomic features from converted numpy arrays](#RADIOMICS)\n",
    "\n",
    "The notebook assumes you have the following nested directory structure after running cells that download neccessary data:"
   ]
  },
  {
   "cell_type": "raw",
   "metadata": {},
   "source": [
    "Top-level directory/\n",
    "├── DICOMRTTool_manuscript.ipynb\n",
    "├── Example_Data/ <- Generated when you run the cells below\n",
    "|   ├── Image_Data/ \n",
    "|       ├── Structure/ \n",
    "│           ├── T1/\n",
    "|               ├── Patient number (12)/\n",
    "|                   ├── RT Struc file (.dcm) <- These correspond to the Pre-RT scans\n",
    "│           ├── T2FLAIR/\n",
    "|               ├── Patient number (12)/\n",
    "|                   ├── RT Struc file (.dcm)\n",
    "|       ├── T1/\n",
    "|           ├── Post1/\n",
    "|               ├── Patient number (12)/\n",
    "|                   ├── DICOM image files (.dcm)\n",
    "|           ├── Post2/\n",
    "|               ├── Patient number (12)/\n",
    "|                   ├── DICOM image files (.dcm)\n",
    "|           ├── Pre/\n",
    "|               ├── Patient number (12)/\n",
    "|                   ├── DICOM image files (.dcm)\n",
    "|       ├── T2FLAIR/\n",
    "|           ├── Post1/\n",
    "|               ├── Patient number (12)/\n",
    "|                   ├── DICOM image files (.dcm)\n",
    "|           ├── Post2/\n",
    "|               ├── Patient number (12)/\n",
    "|                   ├── DICOM image files (.dcm)\n",
    "|           ├── Pre/\n",
    "|               ├── Patient number (12)/\n",
    "|                   ├── DICOM image files (.dcm)\n",
    "├── Data.zip <- Generated when you run the cells below\n",
    "├── nifti/ <- Generated when you run the cells below\n",
    "|   ├──Image.nii\n",
    "|   ├──Mask.nii\n",
    "|   ├──MRN_Path_To_Iteration.xlsx\n",
    "|   ├──Overall_Data_Examples_0.0.nii.gz\n",
    "|   ├──Overall_mask_Examples_y0.0.nii.gz\n",
    "├── numpy/ <- Generated when you run the cells below\n",
    "|   ├──image.npy\n",
    "|   ├──mask.npy"
   ]
  },
  {
   "cell_type": "code",
   "execution_count": 2,
   "metadata": {},
   "outputs": [
    {
     "ename": "ModuleNotFoundError",
     "evalue": "No module named 'radiomics'",
     "output_type": "error",
     "traceback": [
      "\u001b[1;31m---------------------------------------------------------------------------\u001b[0m",
      "\u001b[1;31mModuleNotFoundError\u001b[0m                       Traceback (most recent call last)",
      "\u001b[1;32m<ipython-input-2-457d7b84f491>\u001b[0m in \u001b[0;36m<module>\u001b[1;34m\u001b[0m\n\u001b[0;32m     14\u001b[0m \u001b[1;32mimport\u001b[0m \u001b[0mSimpleITK\u001b[0m \u001b[1;32mas\u001b[0m \u001b[0msitk\u001b[0m\u001b[1;33m\u001b[0m\u001b[0m\n\u001b[0;32m     15\u001b[0m \u001b[1;32mfrom\u001b[0m \u001b[0mDicomRTTool\u001b[0m\u001b[1;33m.\u001b[0m\u001b[0mReaderWriter\u001b[0m \u001b[1;32mimport\u001b[0m \u001b[0mDicomReaderWriter\u001b[0m \u001b[1;31m# pip install DicomRTTool, uncomment this when PyPI is updated\u001b[0m\u001b[1;33m\u001b[0m\u001b[0m\n\u001b[1;32m---> 16\u001b[1;33m \u001b[1;32mfrom\u001b[0m \u001b[0mradiomics\u001b[0m \u001b[1;32mimport\u001b[0m \u001b[0mfeatureextractor\u001b[0m \u001b[1;31m# pip install pyradiomics\u001b[0m\u001b[1;33m\u001b[0m\u001b[0m\n\u001b[0m",
      "\u001b[1;31mModuleNotFoundError\u001b[0m: No module named 'radiomics'"
     ]
    }
   ],
   "source": [
    "# importing neccessary libraries \n",
    "\n",
    "# file mangagment \n",
    "import os \n",
    "import zipfile\n",
    "from six.moves import urllib\n",
    "\n",
    "# array manipulation and plotting\n",
    "import numpy as np\n",
    "import pandas as pd\n",
    "import matplotlib.pyplot as plt\n",
    "\n",
    "# medical image manipulation \n",
    "import SimpleITK as sitk\n",
    "from DicomRTTool.ReaderWriter import DicomReaderWriter # pip install DicomRTTool, uncomment this when PyPI is updated\n",
    "from radiomics import featureextractor # pip install pyradiomics"
   ]
  },
  {
   "cell_type": "code",
   "execution_count": null,
   "metadata": {},
   "outputs": [],
   "source": [
    "os.chdir(\"..\") # move up one folder to access src folder, temporary solution until PyPI is updated\n",
    "cwd = os.getcwd()"
   ]
  },
  {
   "cell_type": "code",
   "execution_count": null,
   "metadata": {},
   "outputs": [],
   "source": [
    "from src.DicomRTTool.ReaderWriter import DicomReaderWriter "
   ]
  },
  {
   "cell_type": "code",
   "execution_count": null,
   "metadata": {},
   "outputs": [],
   "source": [
    "os.chdir(\"Examples\") # change working directory back to what it was \n",
    "cwd = os.getcwd()"
   ]
  },
  {
   "cell_type": "markdown",
   "metadata": {},
   "source": [
    "## Part 1: Getting the Data <a name=\"DATA\"></a>"
   ]
  },
  {
   "cell_type": "markdown",
   "metadata": {},
   "source": [
    "The RT struc files and their corresponding DICOM images can be in the same directory or different directories. Here we show a case where files are located in the same directory. This is a good dataset to work with since its somwhat messy but coherent enough to show power of DICOMRTTool. Many files but only pre-RT T1 and FLAIR images have assocaited RT structure files. Downloading and unzipping the neccessary files will take about 10 minutes on most CPUs and takes up about 8 GB of storage. One may visalize these DICOM images using a free commericially avaliable DICOM viewer, such as Radiant (https://www.radiantviewer.com/)."
   ]
  },
  {
   "cell_type": "code",
   "execution_count": 5,
   "metadata": {},
   "outputs": [
    {
     "name": "stdout",
     "output_type": "stream",
     "text": [
      "Zipped images already downloaded.\n",
      "All required files downloaded!\n",
      "Wall time: 1.97 ms\n"
     ]
    }
   ],
   "source": [
    "%%time\n",
    "data_path = os.path.join('.', 'Example_Data')\n",
    "if not os.path.isdir(data_path): # create Example_data directory if it doesn't exist\n",
    "    os.mkdir(data_path)\n",
    "\n",
    "url_img = \"https://ndownloader.figshare.com/files/20140100\" # brain scans \n",
    "filename_img = os.path.join(data_path, 'Data.zip')\n",
    "if not os.path.exists(filename_img): # if zip file doesnt exist download \n",
    "    print (\"Retrieving zipped images...\")\n",
    "    print('Estimated dowload time is 5 minutes...')\n",
    "    urllib.request.urlretrieve(url_img, filename_img)\n",
    "    print('Finished downloading!')\n",
    "else:\n",
    "    print (\"Zipped images already downloaded.\")\n",
    "\n",
    "if os.path.exists(filename_img):  # If we downloaded the data\n",
    "    if not os.path.exists(os.path.join(data_path, 'Image_Data')): # and it hasn't been unzipped\n",
    "        print (\"Unzipping images...\")\n",
    "        print('Estimated unzip time is 2 minutes')\n",
    "        z = zipfile.ZipFile(filename_img)\n",
    "        z.extractall(data_path)\n",
    "        print (\"Done unzipping images.\")\n",
    "    \n",
    "print(\"All required files downloaded and unzipped!\") # print when done"
   ]
  },
  {
   "cell_type": "code",
   "execution_count": 6,
   "metadata": {},
   "outputs": [],
   "source": [
    "def display_slices(image, mask):\n",
    "    \"\"\"\n",
    "    Displays a series of slices that contains the segmented regions of interest.\n",
    "    Ensures all contours are displayed in consistent and different colors.\n",
    "        Parameters:\n",
    "            image (array-like): numpy array of image \n",
    "            mask (array-like): numpy array of mask\n",
    "        Returns:\n",
    "            None (series of in-line plots)\n",
    "    \"\"\"\n",
    "\n",
    "    slice_locations = np.unique(np.where(mask != 0)[0]) # get indexes for where there is a contour present \n",
    "    slice_start = slice_locations[0] # first slice of contour \n",
    "    slice_end = slice_locations[len(slice_locations)-1] # last slice of contour\n",
    "    \n",
    "    for img_arr, contour_arr in zip(image[slice_start:slice_end+1], mask[slice_start:slice_end+1]): # plot the slices with contours overlayed ontop\n",
    "        masked_contour_arr = np.ma.masked_where(contour_arr == 0, contour_arr)\n",
    "        plt.imshow(img_arr, cmap='gray', interpolation='none')\n",
    "        plt.imshow(masked_contour_arr, cmap='cool', interpolation='none', alpha=0.5, vmin = 1, vmax = np.amax(mask)) # vmax is set as total number of contours so same colors can be displayed for each slice\n",
    "        plt.show()"
   ]
  },
  {
   "cell_type": "markdown",
   "metadata": {},
   "source": [
    "## Part 2: Reading in DICOM and RT struct files and converting to numpy array format. <a name=\"DICOM\"></a>\n",
    "The principal on which these set of tools operates on is based on the DicomReaderWriter object. It is instantiated with the contours of interest (and associations) and can then be used to create numpy arrays of images and masks of the format [slices, width, height].\n",
    "\n",
    "To extrapolate the following code logic to a arbitrary folder structure, one could use an os.walk through directories of interest. For example, I normally use a folder structure MRN -> date of image (pre,mid,post-RT) -> type of scan (MRI, CT, etc.) -> files."
   ]
  },
  {
   "cell_type": "code",
   "execution_count": 9,
   "metadata": {},
   "outputs": [
    {
     "name": "stdout",
     "output_type": "stream",
     "text": [
      ".\\Example_Data\\Image_Data\n"
     ]
    }
   ],
   "source": [
    "DICOM_path = os.path.join('.', 'Example_Data', 'Image_Data') # folder where downloaded data was stored\n",
    "print(DICOM_path)"
   ]
  },
  {
   "cell_type": "code",
   "execution_count": null,
   "metadata": {
    "scrolled": true
   },
   "outputs": [],
   "source": [
    "%%time\n",
    "Dicom_reader = DicomReaderWriter(description='Examples', arg_max=True)\n",
    "Dicom_reader.walk_through_folders(DICOM_path) # need to define in order to use all_roi method"
   ]
  },
  {
   "cell_type": "code",
   "execution_count": null,
   "metadata": {},
   "outputs": [],
   "source": [
    "all_rois = Dicom_reader.return_rois(print_rois=True)  # Return a list of all rois present, and print them"
   ]
  },
  {
   "cell_type": "code",
   "execution_count": null,
   "metadata": {},
   "outputs": [],
   "source": [
    "Contour_Names = ['brainstem', 'abv', 'gtvplus2'] \n",
    "associations = {'brainstem1':'brainstem', # just to show an example of how associations works\n",
    "               'abv_roi': 'abv'}"
   ]
  },
  {
   "cell_type": "code",
   "execution_count": null,
   "metadata": {
    "scrolled": true
   },
   "outputs": [],
   "source": [
    "Dicom_reader.set_contour_names(Contour_Names)\n",
    "Dicom_reader.__set_associations__(associations)"
   ]
  },
  {
   "cell_type": "markdown",
   "metadata": {},
   "source": [
    "Note: Printing \"Found []\" because many of the scans (post 1 and post 2 RT) do not have assocaited structure files."
   ]
  },
  {
   "cell_type": "code",
   "execution_count": null,
   "metadata": {},
   "outputs": [],
   "source": [
    "Dicom_reader.set_index(11)  # Setting to 11 since this index has all the structures, corresponds to T1-w image for patient 12\n",
    "Dicom_reader.get_images_and_mask()  # Load up the images and mask for the requested index"
   ]
  },
  {
   "cell_type": "code",
   "execution_count": null,
   "metadata": {},
   "outputs": [],
   "source": [
    "image = Dicom_reader.ArrayDicom # image array\n",
    "mask = Dicom_reader.mask # mask array"
   ]
  },
  {
   "cell_type": "code",
   "execution_count": null,
   "metadata": {
    "scrolled": true
   },
   "outputs": [],
   "source": [
    "display_slices(image, mask) # visualize that our segmentations were succesfully convereted "
   ]
  },
  {
   "cell_type": "markdown",
   "metadata": {},
   "source": [
    "Note: Cyan denotes brainstem, magenta denotes tumor, lavender denotes abv (unknown what this ROI actually represents..)"
   ]
  },
  {
   "cell_type": "markdown",
   "metadata": {},
   "source": [
    "## Part 3: Saving arrays to nifti format. <a name=\"NIFTI\"></a>\n",
    "\n",
    "If you want to use a manual approach, you can view the nifti files easily after running get_images_and_mask()"
   ]
  },
  {
   "cell_type": "code",
   "execution_count": null,
   "metadata": {},
   "outputs": [],
   "source": [
    "nifti_path = os.path.join('.', 'nifti') # go into nifti subfolder \n",
    "if not os.path.exists(nifti_path):\n",
    "    os.makedirs(nifti_path)"
   ]
  },
  {
   "cell_type": "code",
   "execution_count": null,
   "metadata": {},
   "outputs": [],
   "source": [
    "dicom_sitk_handle = Dicom_reader.dicom_handle\n",
    "mask_sitk_handle = Dicom_reader.annotation_handle\n",
    "sitk.WriteImage(dicom_sitk_handle, os.path.join(nifti_path, 'Image.nii'))\n",
    "sitk.WriteImage(mask_sitk_handle, os.path.join(nifti_path, 'Mask.nii'))"
   ]
  },
  {
   "cell_type": "markdown",
   "metadata": {},
   "source": [
    "Note the nifti writer creates a log .txt file in each DICOM folder and a corresponding log excel file in the specified output path."
   ]
  },
  {
   "cell_type": "code",
   "execution_count": null,
   "metadata": {
    "scrolled": true
   },
   "outputs": [],
   "source": [
    "%%time\n",
    "Dicom_reader.write_parallel(out_path = nifti_path, excel_file = os.path.join(nifti_path,'.','MRN_Path_To_Iteration.xlsx'))"
   ]
  },
  {
   "cell_type": "code",
   "execution_count": null,
   "metadata": {},
   "outputs": [],
   "source": [
    "nifti_image = sitk.ReadImage(os.path.join(nifti_path,\"Overall_Data_Examples_0.0.nii.gz\")) # reload image\n",
    "image = np.array(nifti_image.dataobj)\n",
    "image = np.moveaxis(image,-1,0) # have to swap axis because nyul scripts orient patient differently \n",
    "image = np.swapaxes(image, 1, 2)\n",
    "nifti_mask = sitk.ReadImage(os.path.join(nifti_path,\"Overall_mask_Examples_y0.0.nii.gz\")) # reload mask\n",
    "mask = np.array(nifti_mask.dataobj)\n",
    "mask = np.moveaxis(mask,-1,0) # have to swap axis because nyul scripts orient patient differently \n",
    "mask = np.swapaxes(mask, 1, 2)"
   ]
  },
  {
   "cell_type": "code",
   "execution_count": null,
   "metadata": {},
   "outputs": [],
   "source": [
    "display_slices(image, mask) # visualize that our segmentations were succesfully convereted from nifti "
   ]
  },
  {
   "cell_type": "markdown",
   "metadata": {},
   "source": [
    "## Part 4: Saving and loading numpy files for later use. <a name=\"NUMPY\"></a>\n",
    "\n",
    "Finally we can save the numpy arrays to files for later use (so you don't have to reinstantiate the computationally expensive DicomReaderWriter object) and subsequently re-load the numpy arrays."
   ]
  },
  {
   "cell_type": "code",
   "execution_count": null,
   "metadata": {},
   "outputs": [],
   "source": [
    "numpy_path = os.path.join('.', 'numpy') # go into numpy subfolder \n",
    "if not os.path.exists(numpy_path):\n",
    "    os.makedirs(numpy_path)"
   ]
  },
  {
   "cell_type": "code",
   "execution_count": null,
   "metadata": {},
   "outputs": [],
   "source": [
    "np.save(os.path.join(numpy_path,'image'), image) # save the arrays\n",
    "np.save(os.path.join(numpy_path,'mask'), mask)"
   ]
  },
  {
   "cell_type": "code",
   "execution_count": null,
   "metadata": {},
   "outputs": [],
   "source": [
    "image = np.load(os.path.join(numpy_path,'image.npy')) # load the arrays\n",
    "mask = np.load(os.path.join(numpy_path,'mask.npy'))"
   ]
  },
  {
   "cell_type": "markdown",
   "metadata": {},
   "source": [
    "## Part 5: Radiomics Use-case Example <a name=\"RADIOMICS\"></a>\n",
    "\n",
    "Here we use the popular open-source radiomics library PyRadiomics (https://pyradiomics.readthedocs.io/en/latest/) to calculate radiomic features for our ROIs. Results are consistent with 3D Slicer (https://www.slicer.org/) using Radiomics (https://www.slicer.org/wiki/Documentation/Nightly/Extensions/Radiomics) extension.  "
   ]
  },
  {
   "cell_type": "code",
   "execution_count": null,
   "metadata": {},
   "outputs": [],
   "source": [
    "def convert_array(array, index):\n",
    "    \"\"\"\n",
    "    Creates a masked array specific for a given ROI index. \n",
    "        Parameters:\n",
    "            array (np array): Input array corresponding to all masks superimposed on image.\n",
    "            index (int): Index to mask with respect to, i.e. only select cetain sub-mask.\n",
    "        Returns:\n",
    "            array_new (np array): Output masked array.\n",
    "    \"\"\"\n",
    "    array_new = array.copy() # must create copy or else changes original \n",
    "    array_new[array_new!=index] = 0\n",
    "    array_new[array_new==index] = 1\n",
    "    return array_new"
   ]
  },
  {
   "cell_type": "code",
   "execution_count": null,
   "metadata": {},
   "outputs": [],
   "source": [
    "%%time\n",
    "mask_new = convert_array(mask,3) # only consider mask for GTV (index 3)\n",
    "\n",
    "sitk_img = sitk.GetImageFromArray(image) # need sitk image to plug into PyRadiomics\n",
    "sitk_mask = sitk.GetImageFromArray(mask_new) \n",
    "\n",
    "params = {} # can edit in more params as neccessary \n",
    "extractor = featureextractor.RadiomicsFeatureExtractor(**params) # instantiate extractor with parameters \n",
    "extractor.disableAllFeatures() # in case where only want some features, can delete these lines if you want deafult\n",
    "extractor.enableFeatureClassByName('firstorder') \n",
    "extractor.enableFeatureClassByName('glcm') \n",
    "features = {} # empty dictionary \n",
    "features = extractor.execute(sitk_img, sitk_mask) # unpack results into features dictionary\n",
    "df = pd.DataFrame({k: [v] for k, v in features.items()}) # put dictionary into a dataframe "
   ]
  },
  {
   "cell_type": "code",
   "execution_count": null,
   "metadata": {},
   "outputs": [],
   "source": [
    "df"
   ]
  }
 ],
 "metadata": {
  "kernelspec": {
   "display_name": "Python 3",
   "language": "python",
   "name": "python3"
  },
  "language_info": {
   "codemirror_mode": {
    "name": "ipython",
    "version": 3
   },
   "file_extension": ".py",
   "mimetype": "text/x-python",
   "name": "python",
   "nbconvert_exporter": "python",
   "pygments_lexer": "ipython3",
   "version": "3.6.5"
  }
 },
 "nbformat": 4,
 "nbformat_minor": 4
}
