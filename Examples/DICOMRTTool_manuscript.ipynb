{
 "cells": [
  {
   "cell_type": "markdown",
   "metadata": {},
   "source": [
    "# DICOM RT Tool Example for Manuscript\n",
    "\n",
    "This version is for the Technical Paper by Brian Anderson.\n",
    "\n",
    "Last edited by Kareem Wahid on January 3, 2020.\n",
    "\n",
    "This notebook demonstrates the various functions and utilities avaliable in the Dicom RT tool package (https://github.com/brianmanderson/Dicom_RT_and_Images_to_Mask). It does so by working through an example of an oropharyngeal cancer case that contains a DICOM formated T2-w MRI sequence (120 files) and corresponding RT structure file (1 file) with multiple segmented regions of interest (primary tumor, lymph nodes, left parotid, right parotid, left cheek fat, right cheek fat). \n",
    "\n",
    "The notebook covers the following topics:\n",
    "1. Reading in DICOM and RT struct files and converting to numpy array format. \n",
    "2. Saving arrays to nifti format. \n",
    "3. Saving and loading numpy files for later use. \n",
    "\n",
    "This notebook uses publically avaliable data from the following link: LINK.\n",
    "\n",
    "The notebook assumes you have the following directory structure:"
   ]
  },
  {
   "cell_type": "code",
   "execution_count": 1,
   "metadata": {},
   "outputs": [
    {
     "data": {
      "text/plain": [
       "'\\nDICOMRTTool_example/\\n│   DICOMRTTool.ipynb\\n│\\n└───DICOM/\\n│       120 DICOM files (UID.dcm)\\n│       1 RT struct file (str.dcm)\\n└───nifti/\\n│       MRN_Path_To_Iteration.xlsx (created after running notebook)\\n│       Overall_Data__0.nii (created after running notebook)\\n|       Overall_mask__y0.nii (created after running notebook)\\n└───numpy/\\n│       image.npy (created after running notebook)\\n│       mask.npy (created after running notebook)\\n'"
      ]
     },
     "execution_count": 1,
     "metadata": {},
     "output_type": "execute_result"
    }
   ],
   "source": [
    "\"\"\"\n",
    "DICOMRTTool_example/\n",
    "│   DICOMRTTool.ipynb\n",
    "│\n",
    "└───DICOM/\n",
    "│       120 DICOM files (UID.dcm)\n",
    "│       1 RT struct file (str.dcm)\n",
    "└───nifti/\n",
    "│       MRN_Path_To_Iteration.xlsx (created after running notebook)\n",
    "│       Overall_Data__0.nii (created after running notebook)\n",
    "|       Overall_mask__y0.nii (created after running notebook)\n",
    "└───numpy/\n",
    "│       image.npy (created after running notebook)\n",
    "│       mask.npy (created after running notebook)\n",
    "\"\"\""
   ]
  },
  {
   "cell_type": "code",
   "execution_count": 2,
   "metadata": {},
   "outputs": [],
   "source": [
    "# importing neccessary libraries\n",
    "import sys, os\n",
    "sys.path.insert(0, os.path.join('..', '..'))\n",
    "from Dicom_RT_and_Images_to_Mask.src.DicomRTTool.ReaderWriter import DicomReaderWriter\n",
    "#from DicomRTTool.ReaderWriter import DicomReaderWriter # pip install DicomRTTool\n",
    "import numpy as np\n",
    "import matplotlib.pyplot as plt\n",
    "import pickle\n",
    "import os "
   ]
  },
  {
   "cell_type": "code",
   "execution_count": 3,
   "metadata": {},
   "outputs": [],
   "source": [
    "def display_slices(image, mask):\n",
    "    \"\"\"\n",
    "    Displays a series of slices that contains the segmented regions of interest. \n",
    "        Parameters:\n",
    "            image (array-like): numpy array of image \n",
    "            mask (array-like): numpy array of mask\n",
    "        Returns:\n",
    "            None (series of in-line plots)\n",
    "    \"\"\"\n",
    "\n",
    "    slice_locations = np.unique(np.where(mask != 0)[0]) # get indexes for where there is a contour present \n",
    "    slice_start = slice_locations[0] # first slice of contour \n",
    "    slice_end = slice_locations[len(slice_locations)-1] # last slice of contour\n",
    "    \n",
    "    for img_arr, contour_arr in zip(image[slice_start:slice_end+1], mask[slice_start:slice_end+1]): # plot the slices with contours overlayed ontop\n",
    "        masked_contour_arr = np.ma.masked_where(contour_arr == 0, contour_arr)\n",
    "        plt.imshow(img_arr, cmap='gray', interpolation='none')\n",
    "        plt.imshow(masked_contour_arr, cmap='cool', interpolation='none', alpha=0.5, vmin = 1, vmax = np.amax(mask)) # vmax is set as total number of contours so same colors can be displayed for each slice\n",
    "        plt.show()"
   ]
  },
  {
   "cell_type": "markdown",
   "metadata": {},
   "source": [
    "## Part 1: Reading in DICOM and RT struct files and converting to numpy array format.\n",
    "The principal on which these set of tools operates on is based on the DicomReaderWriter object. It is instantiated with the contours of interest (and associations) and can then be used to create numpy arrays of images and masks of the format [slices, width, height].\n",
    "\n",
    "To extrapolate the following code logic to a arbitrary folder structure, one could use an os.walk through directories of interest. For example, I normally use a folder structure MRN -> date of image (pre,mid,post-RT) -> type of scan (MRI, CT, etc.) -> files."
   ]
  },
  {
   "cell_type": "code",
   "execution_count": 4,
   "metadata": {},
   "outputs": [],
   "source": [
    "DICOM_path = os.path.join('.', 'DICOM') # go into DICOM subfolder \n",
    "new_path = r'H:\\Modular_Projects\\DicomRTWork\\New_Data'\n",
    "if os.path.exists(new_path):\n",
    "    DICOM_path = new_path"
   ]
  },
  {
   "cell_type": "code",
   "execution_count": 6,
   "metadata": {},
   "outputs": [
    {
     "name": "stdout",
     "output_type": "stream",
     "text": [
      "Index 0, description Axial - Arterial Phase  2.0  MIP at H:\\Modular_Projects\\DicomRTWork\\New_Data\\Mixed\n",
      "Index 1, description Arterial Phase  5.0  I40f  3 at H:\\Modular_Projects\\DicomRTWork\\New_Data\\Mixed\n",
      "2 unique series IDs were found. Default is index 0, to change use set_index(index)\n"
     ]
    }
   ],
   "source": [
    "Dicom_reader = DicomReaderWriter(description='Examples')\n",
    "Dicom_reader.walk_through_folders(DICOM_path) # need to define in order to use all_roi method\n",
    "Dicom_reader.set_index(0)  # Default, you can change as you like"
   ]
  },
  {
   "cell_type": "code",
   "execution_count": null,
   "metadata": {},
   "outputs": [],
   "source": [
    "all_rois = Dicom_reader.return_rois(print_rois=True)  # Return a list of all rois present, and print them"
   ]
  },
  {
   "cell_type": "code",
   "execution_count": null,
   "metadata": {},
   "outputs": [],
   "source": [
    "Contour_Names = [\"GTV_p\", \"GTV_n1\", \"Parotid_R\", \"Parotid_L\"] \n",
    "\n",
    "associations = {'GTV_p_KW':'GTV_p','GTV_p_KW_SA':'GTV_p', # just to show an example of how associations works\n",
    "               'GTV_n1_KW_SA': 'GTV_n1'}"
   ]
  },
  {
   "cell_type": "code",
   "execution_count": null,
   "metadata": {},
   "outputs": [],
   "source": [
    "Dicom_reader.set_contour_names(Contour_Names)\n",
    "Dicom_reader.__set_associations__(associations)\n",
    "Dicom_reader.get_images_and_mask()"
   ]
  },
  {
   "cell_type": "code",
   "execution_count": null,
   "metadata": {},
   "outputs": [],
   "source": [
    "image = Dicom_reader.ArrayDicom # image array\n",
    "mask = Dicom_reader.mask # mask array"
   ]
  },
  {
   "cell_type": "code",
   "execution_count": null,
   "metadata": {},
   "outputs": [],
   "source": [
    "display_slices(image, mask) # visualize that our segmentations were succesfully convereted "
   ]
  },
  {
   "cell_type": "markdown",
   "metadata": {},
   "source": [
    "## Part 2: Saving arrays to nifti format.\n",
    "\n",
    "The write_parallel method genereates a Overall_Data (image) file and Overall_mask file with the corresponding execution number. It can be used for any arbitrary image modality or arbitrary number of contours. Takes a few seconds per patient. \n",
    "\n",
    "Note the nifti writer creates a log .txt file in each DICOM folder and a corresponding log excel file in the specified output path. "
   ]
  },
  {
   "cell_type": "code",
   "execution_count": null,
   "metadata": {},
   "outputs": [],
   "source": [
    "nifti_path = os.path.join('.', 'nifti') # go into nifti subfolder "
   ]
  },
  {
   "cell_type": "code",
   "execution_count": null,
   "metadata": {},
   "outputs": [],
   "source": [
    "Dicom_reader.write_parallel(out_path = nifti_path, excel_file = os.path.join(nifti_path,'.','MRN_Path_To_Iteration.xlsx'))"
   ]
  },
  {
   "cell_type": "markdown",
   "metadata": {},
   "source": [
    "## Part 3: Saving and loading numpy files for later use. \n",
    "\n",
    "Finally we can save the numpy arrays to files for later use (so you don't have to reinstantiate the computationally expensive DicomReaderWriter object) and subsequently re-load the numpy arrays."
   ]
  },
  {
   "cell_type": "code",
   "execution_count": null,
   "metadata": {},
   "outputs": [],
   "source": [
    "numpy_path = os.path.join('.', 'numpy') # go into numpy subfolder "
   ]
  },
  {
   "cell_type": "code",
   "execution_count": null,
   "metadata": {},
   "outputs": [],
   "source": [
    "np.save(os.path.join(numpy_path,'image'), image) # save the arrays\n",
    "np.save(os.path.join(numpy_path,'mask'), mask)"
   ]
  },
  {
   "cell_type": "code",
   "execution_count": null,
   "metadata": {},
   "outputs": [],
   "source": [
    "image = np.load(os.path.join(numpy_path,'image.npy')) # load the arrays\n",
    "mask = np.load(os.path.join(numpy_path,'mask.npy'))"
   ]
  },
  {
   "cell_type": "markdown",
   "metadata": {},
   "source": [
    "## Part 4: TEst"
   ]
  },
  {
   "cell_type": "code",
   "execution_count": null,
   "metadata": {},
   "outputs": [],
   "source": [
    "xxx = 1"
   ]
  }
 ],
 "metadata": {
  "kernelspec": {
   "display_name": "Python 3",
   "language": "python",
   "name": "python3"
  },
  "language_info": {
   "codemirror_mode": {
    "name": "ipython",
    "version": 3
   },
   "file_extension": ".py",
   "mimetype": "text/x-python",
   "name": "python",
   "nbconvert_exporter": "python",
   "pygments_lexer": "ipython3",
   "version": "3.6.5"
  }
 },
 "nbformat": 4,
 "nbformat_minor": 4
}
